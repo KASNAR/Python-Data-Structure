{
  "nbformat": 4,
  "nbformat_minor": 0,
  "metadata": {
    "colab": {
      "provenance": []
    },
    "kernelspec": {
      "name": "python3",
      "display_name": "Python 3"
    },
    "language_info": {
      "name": "python"
    }
  },
  "cells": [
    {
      "cell_type": "code",
      "execution_count": null,
      "metadata": {
        "id": "TreNZXEIsDkh"
      },
      "outputs": [],
      "source": []
    },
    {
      "cell_type": "markdown",
      "source": [
        "1 What are data structures, and why are they important\n",
        "\n",
        "Data structures are ways of organizing and storing data in a computer so that it can be accessed and modified efficiently. They are fundamental to programming and software development because they define the relationship between the data and the operations that can be performed on them.\n",
        "\n",
        "Why Data Structures Are Important\n",
        "\n",
        "Efficiency: The right data structure can significantly improve the performance of a program. For example, searching in a hash table is much faster (on average) than in a list.\n",
        "\n",
        "Scalability: Efficient data structures help systems scale to handle more data and users without performance degradation.\n",
        "\n",
        "Maintainability: Clear and appropriate data structures make code easier to understand, maintain, and debug.\n",
        "\n",
        "Algorithm Implementation: Many algorithms depend heavily on specific data structures (e.g., Dijkstra’s algorithm uses a priority queue).\n",
        "\n",
        "\n",
        "\n",
        "\n",
        "2 Explain the difference between mutable and immutable data types with examples\n",
        "\n",
        "In Python, data types are classified based on whether their contents can be changed after creation.\n",
        "\n",
        "Mutable Data Types\n",
        "\n",
        "Definition: Mutable objects can be changed after creation — their state or content can be modified without changing their identity.\n",
        "\n",
        " Examples:\n",
        "List\n",
        "\n",
        "Dictionary\n",
        "\n",
        "Set\n",
        "\n",
        "Immutable Data Types\n",
        "\n",
        "Definition: Immutable objects cannot be changed after creation — any operation that seems to modify them will actually create a new object.\n",
        "\n",
        " Examples:\n",
        "Integer\n",
        "\n",
        "Float\n",
        "\n",
        "String\n",
        "\n",
        "Tuple\n",
        "\n",
        "\n",
        "\n",
        "\n",
        "\n",
        "3 What are the main differences between lists and tuples in Python\n",
        "\n",
        "Both lists and tuples are used to store collections of items, but they have key differences in mutability, syntax, performance, and use cases.\n",
        "\n",
        " Mutability\n",
        "\n",
        "Feature\t            List ( Mutable)\t       Tuple (Immutable)\n",
        "Can modify?\t Yes (add, remove, change)\t  No (contents cannot be changed after creation)\n",
        "\n",
        "\n",
        "\n",
        "\n",
        "\n",
        "4  Describe how dictionaries store data\n",
        "\n",
        "A dictionary in Python stores data using a hash table — a highly efficient structure for looking up values by key.\n",
        "\n",
        "\n",
        "\n",
        "\n",
        "5 Why might you use a set instead of a list in Python\n",
        "\n",
        "A set is a built-in data structure in Python that stores unordered, unique items. Depending on your needs, using a set instead of a list can offer key advantages:\n",
        "\n",
        " Automatically Removes Duplicates\n",
        "\n",
        " Faster Membership Testing\n",
        "\n",
        " Useful for Set Operations\n",
        "\n",
        " Enforces Unique Collection\n",
        "\n",
        "\n",
        "\n",
        "\n",
        " 6 P What is a string in Python, and how is it different from a list\n",
        "\n",
        " A string in Python is a sequence of characters enclosed in single quotes ' ', double quotes \" \", or triple quotes ''' ''' / \"\"\" \"\"\".\n",
        "\n",
        " Key Properties of Strings:\n",
        "\n",
        "Immutable: Once created, strings cannot be changed.\n",
        "\n",
        "Ordered: Characters have a fixed order and can be accessed by index.\n",
        "\n",
        "Iterable: You can loop through them.\n",
        "\n",
        "Difference Between a String and a List in Python\n",
        "\n",
        "Feature\t               String                      \tList\n",
        "Data Type\t     Sequence of characters\t     Sequence of any data types\n",
        "Mutable?\t          Immutable\t                 Mutable\n",
        "\n",
        "\n",
        "\n",
        "\n",
        "\n",
        "\n",
        "7 How do tuples ensure data integrity in Python\n",
        "\n",
        "Tuples are a built-in data type in Python that help ensure data integrity because they are immutable — meaning once created, they cannot be changed.\n",
        "\n",
        "What Is Data Integrity-\n",
        "\n",
        "Data integrity means the data:\n",
        "\n",
        "Remains accurate\n",
        "\n",
        "Is protected from unintended changes\n",
        "\n",
        "Maintains its original structure and values\n",
        "\n",
        "Tuple  List (Integrity Focus)\n",
        "\n",
        "Feature\t                        Tuple\t                            List\n",
        "Mutable\t                          No\t                              Yes\n",
        "Can be dictionary key\t         Yes (if fully immutable              no\n",
        "\n",
        "\n",
        "\n",
        "\n",
        "\n",
        "8 What is a hash table, and how does it relate to dictionaries in Python\n",
        "\n",
        "A hash table is a data structure that stores key-value pairs and allows very fast access to data using a technique called hashing.\n",
        "\n",
        "\n",
        "Hashing the key using a hash function (hash() in Python).\n",
        "\n",
        "Mapping that hash to an index in an internal array.\n",
        "\n",
        "Storing the value at that index.\n",
        "\n",
        "How It Relates to Python Dictionaries\n",
        "\n",
        "Python’s built-in dict is implemented using a hash table.\n",
        "\n",
        "Each key is hashed to find where its value should be stored.\n",
        "\n",
        "Dictionary operations like lookup, insert, and delete are very fast (average case: O(1)).\n",
        "\n",
        "\n",
        "\n",
        "\n",
        "\n",
        "9  Can lists contain different data types in Python\n",
        "\n",
        "Yes, lists in Python can contain different data types.\n",
        "\n",
        "Python lists are heterogeneous, meaning they can store a mix of integers, strings, floats, booleans, objects, other lists, and more — all in the same list.\n",
        "\n",
        "\n",
        "\n",
        "\n",
        "\n",
        "10 Explain why strings are immutable in Python\n",
        "\n",
        "In Python, strings are immutable, meaning once a string is created, it cannot be changed. Any operation that seems to \"modify\" a string actually creates a new string object.\n",
        "\n",
        "Reasons Why Strings Are Immutable in Python\n",
        " Efficiency and Performance\n",
        " Safety in Hashing (Dictionary Keys, Sets)\n",
        "Thread Safety\n",
        "\n",
        "\n",
        "\n",
        "\n",
        "\n",
        "11 What advantages do dictionaries offer over lists for certain tasks\n",
        "\n",
        "Dictionaries and lists are both core Python data structures, but they serve different purposes. Dictionaries offer specific advantages over lists when working with key-based data.\n",
        "\n",
        "Fast Lookups by Key (O(1) Average Time)\n",
        "\n",
        "More Descriptive and Readable Code\n",
        "\n",
        "\n",
        "\n",
        "\n",
        "\n",
        "\n",
        "12 Describe a scenario where using a tuple would be preferable over a list\n",
        "\n",
        "A tuple is preferable over a list when you need to store a fixed collection of related data that should not change during the program's execution.\n",
        "\n",
        "\n",
        "\n",
        "\n",
        "13  How do sets handle duplicate values in Python\n",
        "\n",
        "In Python, a set is a built-in data structure that automatically removes duplicate values.\n",
        "\n",
        "Key Behavior of Sets:\n",
        "\n",
        "All elements in a set are unique.\n",
        "\n",
        "If you try to add duplicates, only one copy is stored.\n",
        "\n",
        "The order of elements is not guaranteed (sets are unordered).\n",
        "\n",
        "Why Sets Remove Duplicates Automatically\n",
        "\n",
        "Sets are implemented using hash tables:\n",
        "\n",
        "When you insert an item, Python checks the hash value.\n",
        "\n",
        "If the hash already exists, the item is not added again.\n",
        "\n",
        "\n",
        "\n",
        "\n",
        "14  How does the “in” keyword work differently for lists and dictionaries\n",
        "\n",
        "The in keyword is used to check membership — but it behaves differently depending on the data structure you're using.\n",
        "\n",
        "In a List\n",
        "\n",
        "In a Dictionary\n",
        "\n",
        "\n",
        "\n",
        "\n",
        "\n",
        "15 Can you modify the elements of a tuple? Explain why or why not\n",
        "\n",
        "No, you cannot modify the elements of a tuple directly in Python because tuples are immutable — once a tuple is created, its contents cannot be changed.\n",
        "\n",
        "What Does \"Immutable\" Mean?\n",
        "\n",
        "It means that you cannot change, add, or remove items in the tuple after it is created.\n",
        "\n",
        "Why Tuples Are Immutable\n",
        "\n",
        "   Reason\t                                    Benefit\n",
        " Data Integrity\t                     Prevents accidental changes\n",
        " Performance\t                       Faster and uses less memory\n",
        " Hashability\t                      Can be used as keys in dictionaries\n",
        " Thread Safety                     \tNo race conditions in multi-threading\n",
        "\n",
        " BUT — What If a Tuple Contains a Mutable Object?\n",
        "\n",
        "Tuples themselves are immutable, but if they contain mutable elements, those elements can be changed.\n",
        "\n",
        "\n",
        "\n",
        "\n",
        "\n",
        "16 What is a nested dictionary, and give an example of its use case\n",
        "\n",
        "A nested dictionary is a dictionary inside another dictionary. It allows you to store complex, hierarchical data in a structured way.\n",
        "\n",
        " Real-World Use Case: Student Records\n",
        "\n",
        " Why Use Nested Dictionaries?\n",
        "\n",
        "    Benefit                                       \tDescription\n",
        " Organize            complex data\tStore related data together in a readable way\n",
        " Fast access\t               Directly access deeply nested values\n",
        " Scalable structure\t           Useful for representing JSON-like objects\n",
        "\n",
        "\n",
        "\n",
        "\n",
        "\n",
        " 17  Describe the time complexity of accessing elements in a dictionary\n",
        "\n",
        " Accessing elements in a dictionary using a key is very efficient because dictionaries in Python are implemented using hash tables.\n",
        "\n",
        " - Average-Case Time Complexity:\n",
        "\n",
        " This means accessing any element by key takes roughly the same time, regardless of the size of the dictionary.\n",
        "\n",
        " It’s fast because Python uses the hash() function on the key to directly locate the value.\n",
        "\n",
        " -  Worst-Case Time Complexity:\n",
        "\n",
        "   in rare situations like hash collisions (many keys producing the same hash), performance can degrade.\n",
        "\n",
        "  Python handles collisions internally using open addressing or probing, so it’s still usually fast.\n",
        "\n",
        "\n",
        "\n",
        "\n",
        "\n",
        "  18  In what situations are lists preferred over dictionaries\n",
        "\n",
        "  While dictionaries are excellent for key-based lookups, lists are the better choice in many situations — especially when you need to work with ordered, sequential data.\n",
        "\n",
        "  Situations Where Lists Are Preferred:\n",
        "\n",
        "  Maintaining Order of Elements\n",
        "\n",
        "  Index-Based Access\n",
        "\n",
        "   Iterating Through Items Sequentially\n",
        "\n",
        "\n",
        "\n",
        "\n",
        "\n",
        "   19 Why are dictionaries considered unordered, and how does that affect data retrieval\n",
        "\n",
        "   \n",
        "  Traditionally in Python, dictionaries were considered unordered collections because:\n",
        "\n",
        "  The items had no guaranteed order of storage or retrieval.\n",
        "\n",
        "  Python didn’t preserve the insertion order of keys before version 3.7.\n",
        "\n",
        "\n",
        "\n",
        "\n",
        "\n",
        "  20 Explain the difference between a list and a dictionary in terms of data retrieval\n",
        "\n",
        "  Both lists and dictionaries are powerful Python data structures, but they retrieve data in very different ways.\n",
        "\n",
        "  Lists: Data Retrieval by Index (Position)\n",
        "\n",
        "  Dictionaries: Data Retrieval by Key (Mapping)\n",
        "\n",
        "\n",
        "\n",
        "  \n",
        "\n",
        "\n",
        "\n",
        "\n"
      ],
      "metadata": {
        "id": "umjFLLXGsZmd"
      }
    },
    {
      "cell_type": "code",
      "source": [
        " #Creating a string with my name\n",
        "name = \"Kartik Narayan\"\n",
        "\n",
        "# Printing the string\n",
        "print(\"My name is:\", name)"
      ],
      "metadata": {
        "colab": {
          "base_uri": "https://localhost:8080/"
        },
        "id": "qyIVZFlXTUJ7",
        "outputId": "140ea86d-bdaf-4677-f0fe-9018106080bc"
      },
      "execution_count": 2,
      "outputs": [
        {
          "output_type": "stream",
          "name": "stdout",
          "text": [
            "My name is: Kartik Narayan\n"
          ]
        }
      ]
    },
    {
      "cell_type": "code",
      "source": [
        "# Define the string\n",
        "text = \"Hello World\"\n",
        "\n",
        "# Find the length using len() function\n",
        "length = len(text)\n",
        "\n",
        "# Print the length\n",
        "print(\"Length of the string is:\", length)"
      ],
      "metadata": {
        "colab": {
          "base_uri": "https://localhost:8080/"
        },
        "id": "PIqeUP-zTWDA",
        "outputId": "44ed977c-02c5-4e5d-8720-59a8875c0595"
      },
      "execution_count": 3,
      "outputs": [
        {
          "output_type": "stream",
          "name": "stdout",
          "text": [
            "Length of the string is: 11\n"
          ]
        }
      ]
    },
    {
      "cell_type": "code",
      "source": [
        "# Define the string\n",
        "text = \"Python Programming\"\n",
        "\n",
        "# Slice the first 3 characters\n",
        "sliced_text = text[:3]\n",
        "\n",
        "# Print the result\n",
        "print(\"First 3 characters:\", sliced_text)"
      ],
      "metadata": {
        "colab": {
          "base_uri": "https://localhost:8080/"
        },
        "id": "2r0qn_9DTWIv",
        "outputId": "bd028358-f5e7-4b53-ca44-57d2ad1693d2"
      },
      "execution_count": 4,
      "outputs": [
        {
          "output_type": "stream",
          "name": "stdout",
          "text": [
            "First 3 characters: Pyt\n"
          ]
        }
      ]
    },
    {
      "cell_type": "code",
      "source": [
        "# Define the string\n",
        "text = \"hello\"\n",
        "\n",
        "# Convert to uppercase\n",
        "uppercase_text = text.upper()\n",
        "\n",
        "# Print the result\n",
        "print(\"Uppercase:\", uppercase_text)"
      ],
      "metadata": {
        "colab": {
          "base_uri": "https://localhost:8080/"
        },
        "id": "SY31hwM-UJqB",
        "outputId": "d2b00661-e2ad-444a-b0ee-bddd8b68a83c"
      },
      "execution_count": 5,
      "outputs": [
        {
          "output_type": "stream",
          "name": "stdout",
          "text": [
            "Uppercase: HELLO\n"
          ]
        }
      ]
    },
    {
      "cell_type": "code",
      "source": [
        "# Define the string\n",
        "text = \"I like apple\"\n",
        "\n",
        "# Replace \"apple\" with \"orange\"\n",
        "new_text = text.replace(\"apple\", \"orange\")\n",
        "\n",
        "# Print the result\n",
        "print(\"Updated string:\", new_text)"
      ],
      "metadata": {
        "colab": {
          "base_uri": "https://localhost:8080/"
        },
        "id": "Sw5n_j7eUJth",
        "outputId": "ba981386-caff-4090-b608-c65bd387a012"
      },
      "execution_count": 6,
      "outputs": [
        {
          "output_type": "stream",
          "name": "stdout",
          "text": [
            "Updated string: I like orange\n"
          ]
        }
      ]
    },
    {
      "cell_type": "code",
      "source": [
        "# Create a list with numbers 1 to 5\n",
        "numbers = [1, 2, 3, 4, 5]\n",
        "\n",
        "# Print the list\n",
        "print(\"List of numbers:\", numbers)"
      ],
      "metadata": {
        "colab": {
          "base_uri": "https://localhost:8080/"
        },
        "id": "afwIlN0lUJwq",
        "outputId": "9aad9615-6d26-450e-851c-277c56dab9b5"
      },
      "execution_count": 7,
      "outputs": [
        {
          "output_type": "stream",
          "name": "stdout",
          "text": [
            "List of numbers: [1, 2, 3, 4, 5]\n"
          ]
        }
      ]
    },
    {
      "cell_type": "code",
      "source": [
        "# Define the list\n",
        "numbers = [1, 2, 3, 4]\n",
        "\n",
        "# Append 10 to the list\n",
        "numbers.append(10)\n",
        "\n",
        "# Print the updated list\n",
        "print(\"Updated list:\", numbers)"
      ],
      "metadata": {
        "colab": {
          "base_uri": "https://localhost:8080/"
        },
        "id": "nEC3yb_wUJy4",
        "outputId": "d3f550f8-3130-44cb-b5c0-40b432acb27e"
      },
      "execution_count": 8,
      "outputs": [
        {
          "output_type": "stream",
          "name": "stdout",
          "text": [
            "Updated list: [1, 2, 3, 4, 10]\n"
          ]
        }
      ]
    },
    {
      "cell_type": "code",
      "source": [
        "# Define the list\n",
        "numbers = [1, 2, 3, 4, 5]\n",
        "\n",
        "# Remove the number 3\n",
        "numbers.remove(3)\n",
        "\n",
        "# Print the updated list\n",
        "print(\"Updated list:\", numbers)"
      ],
      "metadata": {
        "colab": {
          "base_uri": "https://localhost:8080/"
        },
        "id": "-Pz1qqOgTWMW",
        "outputId": "2a478b9c-46b6-4821-f32c-947521710d61"
      },
      "execution_count": 9,
      "outputs": [
        {
          "output_type": "stream",
          "name": "stdout",
          "text": [
            "Updated list: [1, 2, 4, 5]\n"
          ]
        }
      ]
    },
    {
      "cell_type": "code",
      "source": [
        "# Define the list\n",
        "letters = ['a', 'b', 'c', 'd']\n",
        "\n",
        "# Access the second element (index 1)\n",
        "second_element = letters[1]\n",
        "\n",
        "# Print the second element\n",
        "print(\"Second element:\", second_element)"
      ],
      "metadata": {
        "colab": {
          "base_uri": "https://localhost:8080/"
        },
        "id": "886qJPxeVC5e",
        "outputId": "fccbae0a-7edd-4978-9c39-4a22d1d5d174"
      },
      "execution_count": 10,
      "outputs": [
        {
          "output_type": "stream",
          "name": "stdout",
          "text": [
            "Second element: b\n"
          ]
        }
      ]
    },
    {
      "cell_type": "code",
      "source": [
        "# Define the list\n",
        "numbers = [10, 20, 30, 40, 50]\n",
        "\n",
        "# Reverse the list\n",
        "numbers.reverse()\n",
        "\n",
        "# Print the reversed list\n",
        "print(\"Reversed list:\", numbers)"
      ],
      "metadata": {
        "colab": {
          "base_uri": "https://localhost:8080/"
        },
        "id": "xdOd1xlNVDCt",
        "outputId": "0e21cd26-7f76-4261-b8f1-7d0d11f86875"
      },
      "execution_count": 11,
      "outputs": [
        {
          "output_type": "stream",
          "name": "stdout",
          "text": [
            "Reversed list: [50, 40, 30, 20, 10]\n"
          ]
        }
      ]
    },
    {
      "cell_type": "code",
      "source": [
        "# Create the tuple\n",
        "my_tuple = (100, 200, 300)\n",
        "\n",
        "# Print the tuple\n",
        "print(\"Tuple:\", my_tuple)"
      ],
      "metadata": {
        "colab": {
          "base_uri": "https://localhost:8080/"
        },
        "id": "A_OCamH4VDFl",
        "outputId": "4627f4e6-5548-4675-b3b5-b5ce20dc401a"
      },
      "execution_count": 12,
      "outputs": [
        {
          "output_type": "stream",
          "name": "stdout",
          "text": [
            "Tuple: (100, 200, 300)\n"
          ]
        }
      ]
    },
    {
      "cell_type": "code",
      "source": [
        "# Define the tuple\n",
        "colors = ('red', 'green', 'blue', 'yellow')\n",
        "\n",
        "# Access the second-to-last element using negative indexing\n",
        "second_last = colors[-2]\n",
        "\n",
        "# Print the result\n",
        "print(\"Second-to-last element:\", second_last)"
      ],
      "metadata": {
        "colab": {
          "base_uri": "https://localhost:8080/"
        },
        "id": "oA7EfsBfVDH9",
        "outputId": "2408d72d-af4b-46c7-fe80-00d1e260c8e6"
      },
      "execution_count": 13,
      "outputs": [
        {
          "output_type": "stream",
          "name": "stdout",
          "text": [
            "Second-to-last element: blue\n"
          ]
        }
      ]
    },
    {
      "cell_type": "code",
      "source": [
        "# Define the tuple\n",
        "numbers = (10, 20, 5, 15)\n",
        "\n",
        "# Find the minimum number using min()\n",
        "minimum = min(numbers)\n",
        "\n",
        "# Print the result\n",
        "print(\"Minimum number:\", minimum)"
      ],
      "metadata": {
        "colab": {
          "base_uri": "https://localhost:8080/"
        },
        "id": "4DbNCSA_VDK_",
        "outputId": "7e66157e-fdbc-4814-fa9d-a40ab5a4a5fd"
      },
      "execution_count": 14,
      "outputs": [
        {
          "output_type": "stream",
          "name": "stdout",
          "text": [
            "Minimum number: 5\n"
          ]
        }
      ]
    },
    {
      "cell_type": "code",
      "source": [
        "# Define the tuple\n",
        "animals = ('dog', 'cat', 'rabbit')\n",
        "\n",
        "# Find the index of \"cat\"\n",
        "index_of_cat = animals.index('cat')\n",
        "\n",
        "# Print the result\n",
        "print(\"Index of 'cat':\", index_of_cat)"
      ],
      "metadata": {
        "colab": {
          "base_uri": "https://localhost:8080/"
        },
        "id": "sFSyrC1yVmbY",
        "outputId": "a43a7c3e-3eea-4182-b730-e74a8733600d"
      },
      "execution_count": 15,
      "outputs": [
        {
          "output_type": "stream",
          "name": "stdout",
          "text": [
            "Index of 'cat': 1\n"
          ]
        }
      ]
    },
    {
      "cell_type": "code",
      "source": [
        "# Create a tuple with three fruits\n",
        "fruits = ('apple', 'banana', 'mango')\n",
        "\n",
        "# Check if \"kiwi\" is in the tuple\n",
        "if 'kiwi' in fruits:\n",
        "    print(\"Kiwi is in the tuple.\")\n",
        "else:\n",
        "    print(\"Kiwi is not in the tuple.\")"
      ],
      "metadata": {
        "colab": {
          "base_uri": "https://localhost:8080/"
        },
        "id": "9sIZsOzvVmeS",
        "outputId": "46f5eb54-dc9a-4401-92a6-654e8cb10ed7"
      },
      "execution_count": 16,
      "outputs": [
        {
          "output_type": "stream",
          "name": "stdout",
          "text": [
            "Kiwi is not in the tuple.\n"
          ]
        }
      ]
    },
    {
      "cell_type": "code",
      "source": [
        "# Create a set with elements 'a', 'b', 'c'\n",
        "my_set = {'a', 'b', 'c'}\n",
        "\n",
        "# Print the set\n",
        "print(\"Set:\", my_set)"
      ],
      "metadata": {
        "colab": {
          "base_uri": "https://localhost:8080/"
        },
        "id": "04XULNl2Vmg6",
        "outputId": "6ac278df-b268-43eb-e6fb-f9f1a6d243c7"
      },
      "execution_count": 17,
      "outputs": [
        {
          "output_type": "stream",
          "name": "stdout",
          "text": [
            "Set: {'b', 'c', 'a'}\n"
          ]
        }
      ]
    },
    {
      "cell_type": "code",
      "source": [
        "# Define the set\n",
        "my_set = {1, 2, 3, 4, 5}\n",
        "\n",
        "# Clear all elements from the set\n",
        "my_set.clear()\n",
        "\n",
        "# Print the cleared set\n",
        "print(\"Cleared set:\", my_set)"
      ],
      "metadata": {
        "colab": {
          "base_uri": "https://localhost:8080/"
        },
        "id": "bQUtoc4mVmjp",
        "outputId": "813dbe18-8a70-49ea-af59-a61ed3be40da"
      },
      "execution_count": 18,
      "outputs": [
        {
          "output_type": "stream",
          "name": "stdout",
          "text": [
            "Cleared set: set()\n"
          ]
        }
      ]
    },
    {
      "cell_type": "code",
      "source": [
        "# Define the set\n",
        "my_set = {1, 2, 3, 4}\n",
        "\n",
        "# Remove the element 4\n",
        "my_set.remove(4)\n",
        "\n",
        "# Print the updated set\n",
        "print(\"Updated set:\", my_set)"
      ],
      "metadata": {
        "colab": {
          "base_uri": "https://localhost:8080/"
        },
        "id": "IOZpeQswVmmO",
        "outputId": "39cddb55-e720-4485-9e0e-5ca7e9568bda"
      },
      "execution_count": 19,
      "outputs": [
        {
          "output_type": "stream",
          "name": "stdout",
          "text": [
            "Updated set: {1, 2, 3}\n"
          ]
        }
      ]
    },
    {
      "cell_type": "code",
      "source": [
        "# Define the sets\n",
        "set1 = {1, 2, 3}\n",
        "set2 = {3, 4, 5}\n",
        "\n",
        "# Find the union of the sets\n",
        "union_set = set1.union(set2)\n",
        "\n",
        "# Print the result\n",
        "print(\"Union of sets:\", union_set)"
      ],
      "metadata": {
        "colab": {
          "base_uri": "https://localhost:8080/"
        },
        "id": "tkeiymT7VmpX",
        "outputId": "d82efa2b-fe13-4495-f1c9-cdb76c2cd60b"
      },
      "execution_count": 20,
      "outputs": [
        {
          "output_type": "stream",
          "name": "stdout",
          "text": [
            "Union of sets: {1, 2, 3, 4, 5}\n"
          ]
        }
      ]
    },
    {
      "cell_type": "code",
      "source": [
        "# Define the sets\n",
        "set1 = {1, 2, 3}\n",
        "set2 = {2, 3, 4}\n",
        "\n",
        "# Find the intersection\n",
        "intersection_set = set1.intersection(set2)\n",
        "\n",
        "# Print the result\n",
        "print(\"Intersection of sets:\", intersection_set)"
      ],
      "metadata": {
        "colab": {
          "base_uri": "https://localhost:8080/"
        },
        "id": "Tdu8aUl-WfIm",
        "outputId": "c3fe7ec2-3afd-4855-89de-257a86688ff1"
      },
      "execution_count": 21,
      "outputs": [
        {
          "output_type": "stream",
          "name": "stdout",
          "text": [
            "Intersection of sets: {2, 3}\n"
          ]
        }
      ]
    },
    {
      "cell_type": "code",
      "source": [
        "# Create the dictionary\n",
        "person = {\n",
        "    \"name\": \"Alice\",\n",
        "    \"age\": 30,\n",
        "    \"city\": \"New York\"\n",
        "}\n",
        "\n",
        "# Print the dictionary\n",
        "print(\"Dictionary:\", person)"
      ],
      "metadata": {
        "colab": {
          "base_uri": "https://localhost:8080/"
        },
        "id": "_DtxV6g0WfQU",
        "outputId": "41c172cb-28e6-4d4e-92ae-23c25d820535"
      },
      "execution_count": 22,
      "outputs": [
        {
          "output_type": "stream",
          "name": "stdout",
          "text": [
            "Dictionary: {'name': 'Alice', 'age': 30, 'city': 'New York'}\n"
          ]
        }
      ]
    },
    {
      "cell_type": "code",
      "source": [
        "# Define the dictionary\n",
        "person = {'name': 'John', 'age': 25}\n",
        "\n",
        "# Add the new key-value pair\n",
        "person['country'] = 'USA'\n",
        "\n",
        "# Print the updated dictionary\n",
        "print(\"Updated dictionary:\", person)"
      ],
      "metadata": {
        "colab": {
          "base_uri": "https://localhost:8080/"
        },
        "id": "d5zxBc_dWfXR",
        "outputId": "670f2730-2f4f-416f-caeb-24432a663a72"
      },
      "execution_count": 23,
      "outputs": [
        {
          "output_type": "stream",
          "name": "stdout",
          "text": [
            "Updated dictionary: {'name': 'John', 'age': 25, 'country': 'USA'}\n"
          ]
        }
      ]
    },
    {
      "cell_type": "code",
      "source": [
        "# Define the dictionary\n",
        "person = {'name': 'Alice', 'age': 30}\n",
        "\n",
        "# Access the value for the key \"name\"\n",
        "name_value = person['name']\n",
        "\n",
        "# Print the value\n",
        "print(\"Value associated with 'name':\", name_value)"
      ],
      "metadata": {
        "colab": {
          "base_uri": "https://localhost:8080/"
        },
        "id": "EHlU7qzFWfej",
        "outputId": "9b7e458c-4472-4ab7-a81f-2e07903ca6db"
      },
      "execution_count": 24,
      "outputs": [
        {
          "output_type": "stream",
          "name": "stdout",
          "text": [
            "Value associated with 'name': Alice\n"
          ]
        }
      ]
    },
    {
      "cell_type": "code",
      "source": [
        "# Define the dictionary\n",
        "person = {'name': 'Bob', 'age': 22, 'city': 'New York'}\n",
        "\n",
        "# Remove the key \"age\"\n",
        "person.pop('age')\n",
        "\n",
        "# Print the updated dictionary\n",
        "print(\"Updated dictionary:\", person)"
      ],
      "metadata": {
        "colab": {
          "base_uri": "https://localhost:8080/"
        },
        "id": "tx-mSy7tWfkB",
        "outputId": "d454e807-cb7b-4446-9d06-820fd36abacd"
      },
      "execution_count": 25,
      "outputs": [
        {
          "output_type": "stream",
          "name": "stdout",
          "text": [
            "Updated dictionary: {'name': 'Bob', 'city': 'New York'}\n"
          ]
        }
      ]
    },
    {
      "cell_type": "code",
      "source": [
        "# Define the dictionary\n",
        "person = {'name': 'Alice', 'city': 'Paris'}\n",
        "\n",
        "# Check if \"city\" exists as a key\n",
        "if 'city' in person:\n",
        "    print(\"Key 'city' exists in the dictionary.\")\n",
        "else:\n",
        "    print(\"Key 'city' does not exist in the dictionary.\")"
      ],
      "metadata": {
        "colab": {
          "base_uri": "https://localhost:8080/"
        },
        "id": "ImP95_KBWg6s",
        "outputId": "c8a7c72d-9f10-473c-ddd6-b6d75bf9e42d"
      },
      "execution_count": 26,
      "outputs": [
        {
          "output_type": "stream",
          "name": "stdout",
          "text": [
            "Key 'city' exists in the dictionary.\n"
          ]
        }
      ]
    },
    {
      "cell_type": "code",
      "source": [
        "# Create a list\n",
        "my_list = [1, 2, 3, 4, 5]\n",
        "\n",
        "# Create a tuple\n",
        "my_tuple = ('apple', 'banana', 'cherry')\n",
        "\n",
        "# Create a dictionary\n",
        "my_dict = {'name': 'John', 'age': 28, 'city': 'London'}\n",
        "\n",
        "# Print them all\n",
        "print(\"List:\", my_list)\n",
        "print(\"Tuple:\", my_tuple)\n",
        "print(\"Dictionary:\", my_dict)"
      ],
      "metadata": {
        "colab": {
          "base_uri": "https://localhost:8080/"
        },
        "id": "GH1PKEXwXMg3",
        "outputId": "bf9e7012-6a86-44d9-e975-36976ab3866d"
      },
      "execution_count": 27,
      "outputs": [
        {
          "output_type": "stream",
          "name": "stdout",
          "text": [
            "List: [1, 2, 3, 4, 5]\n",
            "Tuple: ('apple', 'banana', 'cherry')\n",
            "Dictionary: {'name': 'John', 'age': 28, 'city': 'London'}\n"
          ]
        }
      ]
    },
    {
      "cell_type": "code",
      "source": [
        "import random\n",
        "\n",
        "# Create a list of 5 random numbers between 1 and 100\n",
        "random_numbers = [random.randint(1, 100) for _ in range(5)]\n",
        "\n",
        "# Sort the list in ascending order\n",
        "random_numbers.sort()\n",
        "\n",
        "# Print the sorted list\n",
        "print(\"Sorted random numbers:\", random_numbers)"
      ],
      "metadata": {
        "colab": {
          "base_uri": "https://localhost:8080/"
        },
        "id": "PbOGJuueXMmj",
        "outputId": "860e2dd9-7ba7-46ec-afe3-ee6840f05112"
      },
      "execution_count": 28,
      "outputs": [
        {
          "output_type": "stream",
          "name": "stdout",
          "text": [
            "Sorted random numbers: [11, 41, 43, 88, 95]\n"
          ]
        }
      ]
    },
    {
      "cell_type": "code",
      "source": [
        "# Create a list of strings\n",
        "fruits = ['apple', 'banana', 'cherry', 'date', 'elderberry']\n",
        "\n",
        "# Print the element at the third index (index 3)\n",
        "print(\"Element at index 3:\", fruits[3])"
      ],
      "metadata": {
        "colab": {
          "base_uri": "https://localhost:8080/"
        },
        "id": "-mr1vYCZXMtm",
        "outputId": "fe31df7d-8c44-40e2-c83d-43ddf1cb948b"
      },
      "execution_count": 29,
      "outputs": [
        {
          "output_type": "stream",
          "name": "stdout",
          "text": [
            "Element at index 3: date\n"
          ]
        }
      ]
    },
    {
      "cell_type": "code",
      "source": [
        "# Define two dictionaries\n",
        "dict1 = {'a': 1, 'b': 2}\n",
        "dict2 = {'c': 3, 'd': 4}\n",
        "\n",
        "# Combine the dictionaries\n",
        "combined_dict = {**dict1, **dict2}\n",
        "\n",
        "# Print the combined dictionary\n",
        "print(\"Combined dictionary:\", combined_dict)"
      ],
      "metadata": {
        "colab": {
          "base_uri": "https://localhost:8080/"
        },
        "id": "zL0s1UsjXM0X",
        "outputId": "e918ece6-8a86-4457-d31d-081570a37369"
      },
      "execution_count": 30,
      "outputs": [
        {
          "output_type": "stream",
          "name": "stdout",
          "text": [
            "Combined dictionary: {'a': 1, 'b': 2, 'c': 3, 'd': 4}\n"
          ]
        }
      ]
    },
    {
      "cell_type": "code",
      "source": [
        "# Define a list of strings\n",
        "string_list = ['apple', 'banana', 'cherry', 'apple']\n",
        "\n",
        "# Convert the list to a set\n",
        "string_set = set(string_list)\n",
        "\n",
        "# Print the set\n",
        "print(\"Set:\", string_set)"
      ],
      "metadata": {
        "colab": {
          "base_uri": "https://localhost:8080/"
        },
        "id": "NHmGt3gsXM6F",
        "outputId": "9370541d-70a6-405f-8104-0ded1bb9442b"
      },
      "execution_count": 31,
      "outputs": [
        {
          "output_type": "stream",
          "name": "stdout",
          "text": [
            "Set: {'apple', 'cherry', 'banana'}\n"
          ]
        }
      ]
    }
  ]
}